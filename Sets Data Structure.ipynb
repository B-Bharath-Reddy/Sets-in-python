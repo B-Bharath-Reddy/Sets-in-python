{
 "cells": [
  {
   "cell_type": "code",
   "execution_count": null,
   "id": "f29ef64d",
   "metadata": {},
   "outputs": [],
   "source": [
    "#  set is an unordered collection with no duplicate elements.\n",
    "#  set is a mutable type data structure\n",
    "#  Set objects also support mathematical operations like union, intersection, difference, and symmetric difference.\n",
    "#  set is created by set()\n",
    "# we cant perform slicing and index operation\n"
   ]
  },
  {
   "cell_type": "code",
   "execution_count": 1,
   "id": "9c1a0057",
   "metadata": {},
   "outputs": [
    {
     "name": "stdout",
     "output_type": "stream",
     "text": [
      "{'orange', 'grapes', 'apple', 'mango', 'banana'}\n"
     ]
    }
   ],
   "source": [
    "x = set()\n",
    "fruits1 = {\"banana\",\"apple\",\"grapes\",\"orange\",\"mango\"}\n",
    "print(fruits1)"
   ]
  },
  {
   "cell_type": "code",
   "execution_count": 5,
   "id": "aef3356d",
   "metadata": {},
   "outputs": [
    {
     "name": "stdout",
     "output_type": "stream",
     "text": [
      "{'orange', 'grapes', 'apple', 'mango', 'banana'}\n",
      "5\n"
     ]
    }
   ],
   "source": [
    "x = set()\n",
    "fruits1 = {\"banana\",\"apple\",\"grapes\",\"orange\",\"mango\",\"banana\"} # removes duplicate item example banana\n",
    "print(fruits1)\n",
    "print(len(fruits1))"
   ]
  },
  {
   "cell_type": "code",
   "execution_count": 16,
   "id": "e27495d2",
   "metadata": {},
   "outputs": [
    {
     "name": "stdout",
     "output_type": "stream",
     "text": [
      "{'orange', 'grapes', 'apple', 'mango', 'banana'}\n",
      "{'orange', 'grapes', 'apple', 'mango', 'tamota', 'banana'}\n"
     ]
    }
   ],
   "source": [
    "fruits1 = {\"banana\",\"apple\",\"grapes\",\"orange\",\"mango\"}\n",
    "fruits2 = {\"guava\",\"pomogranet\",\"mango\"}\n",
    "print(fruits1)\n",
    "fruits1.add(\"tamota\")     # adding item to an set add() method for single element \n",
    "print(fruits1)            #  set.add() takes exactly one argument ()"
   ]
  },
  {
   "cell_type": "code",
   "execution_count": 13,
   "id": "86630ed5",
   "metadata": {},
   "outputs": [
    {
     "name": "stdout",
     "output_type": "stream",
     "text": [
      "{'orange', 'grapes', 'apple', 'mango', 'banana'}\n",
      "{'guava', 'orange', 'grapes', 'apple', 'mango', 'pomogranet', 'banana'}\n"
     ]
    }
   ],
   "source": [
    "fruits1 = {\"banana\",\"apple\",\"grapes\",\"orange\",\"mango\"}\n",
    "fruits2 = {\"guava\",\"pomogranet\",\"mango\"}\n",
    "print(fruits1)\n",
    "fruits1.update(fruits2)           # set.update() takes exactly two or multiple  arguments\n",
    "print(fruits1)                    # set.update() used for adding multiple items into a existing set "
   ]
  },
  {
   "cell_type": "code",
   "execution_count": 25,
   "id": "6864ee7a",
   "metadata": {},
   "outputs": [
    {
     "name": "stdout",
     "output_type": "stream",
     "text": [
      "{'h', 1, 'orange', 'grapes', 2, 'apple', 3, 4, 5, 6, 'l', 'o', 'e', 'mango', 'banana'}\n"
     ]
    }
   ],
   "source": [
    "fruits1 = {\"banana\",\"apple\",\"grapes\",\"orange\",\"mango\"}\n",
    "fruits1.update(\"hello\",[1,2,3],(4,5,6))\n",
    "print(fruits1)    \n"
   ]
  },
  {
   "cell_type": "code",
   "execution_count": 30,
   "id": "6d0aec75",
   "metadata": {},
   "outputs": [
    {
     "name": "stdout",
     "output_type": "stream",
     "text": [
      "{'orange', 'grapes', 'apple', 'mango'}\n",
      "{'orange', 'grapes', 'apple', 'mango', 'banana'}\n"
     ]
    }
   ],
   "source": [
    "fruits1 = {\"banana\",\"apple\",\"grapes\",\"orange\",\"mango\"}  # discard method to remove an item in a set\n",
    "fruits1.discard(\"banana\")\n",
    "print(fruits1)\n",
    "fruits1 = {\"banana\",\"apple\",\"grapes\",\"orange\",\"mango\"}  # discard method gives no error when we given wrong arguement ()\n",
    "fruits1.discard(\"tamota\")\n",
    "print(fruits1)"
   ]
  },
  {
   "cell_type": "code",
   "execution_count": 34,
   "id": "d1d61aeb",
   "metadata": {},
   "outputs": [
    {
     "name": "stdout",
     "output_type": "stream",
     "text": [
      "{'orange', 'grapes', 'apple', 'mango'}\n"
     ]
    }
   ],
   "source": [
    "fruits1 = {\"banana\",\"apple\",\"grapes\",\"orange\",\"mango\"}  # remove method to remove an item in a set\n",
    "fruits1.remove(\"banana\")\n",
    "print(fruits1)\n",
    "#fruits1 = {\"banana\",\"apple\",\"grapes\",\"orange\",\"mango\"}  # remove method gives error when we give wrong argument\n",
    "#fruits1.remove(\"tamota\")\n",
    "#print(fruits1)"
   ]
  },
  {
   "cell_type": "code",
   "execution_count": 36,
   "id": "d39f2e3e",
   "metadata": {},
   "outputs": [
    {
     "name": "stdout",
     "output_type": "stream",
     "text": [
      "{'grapes', 'apple', 'mango', 'banana'}\n"
     ]
    }
   ],
   "source": [
    "fruits1 = {\"banana\",\"apple\",\"grapes\",\"orange\",\"mango\"}  # pop method to remove an item in a set\n",
    "fruits1.pop()                                     # set.pop() takes no arguments (1 given) it randomly removes\n",
    "print(fruits1)"
   ]
  },
  {
   "cell_type": "code",
   "execution_count": 38,
   "id": "ceace9f5",
   "metadata": {},
   "outputs": [
    {
     "name": "stdout",
     "output_type": "stream",
     "text": [
      "set()\n"
     ]
    }
   ],
   "source": [
    "fruits={\"banana\",\"apple\",\"grapes\"}\n",
    "fruits.clear()                     # clear method clears all items in a set and provides output as set()\n",
    "print(fruits)"
   ]
  },
  {
   "cell_type": "code",
   "execution_count": 41,
   "id": "04110b3b",
   "metadata": {},
   "outputs": [
    {
     "name": "stdout",
     "output_type": "stream",
     "text": [
      "{'guava', 'orange', 'grapes', 'apple', 'mango', 'banana', 'pomogranet'}\n"
     ]
    }
   ],
   "source": [
    "fruits1 = {\"banana\",\"apple\",\"grapes\",\"orange\",\"mango\"}  # union operation \n",
    "fruits2 = {\"guava\",\"pomogranet\",\"mango\",\"banana\"}\n",
    "print(fruits1 | fruits2)"
   ]
  },
  {
   "cell_type": "code",
   "execution_count": 48,
   "id": "a2b4265f",
   "metadata": {},
   "outputs": [
    {
     "ename": "AttributeError",
     "evalue": "'set' object has no attribute 'Uninon'",
     "output_type": "error",
     "traceback": [
      "\u001b[1;31m---------------------------------------------------------------------------\u001b[0m",
      "\u001b[1;31mAttributeError\u001b[0m                            Traceback (most recent call last)",
      "Cell \u001b[1;32mIn[48], line 3\u001b[0m\n\u001b[0;32m      1\u001b[0m fruits1 \u001b[38;5;241m=\u001b[39m {\u001b[38;5;124m\"\u001b[39m\u001b[38;5;124mbanana\u001b[39m\u001b[38;5;124m\"\u001b[39m,\u001b[38;5;124m\"\u001b[39m\u001b[38;5;124mapple\u001b[39m\u001b[38;5;124m\"\u001b[39m,\u001b[38;5;124m\"\u001b[39m\u001b[38;5;124mgrapes\u001b[39m\u001b[38;5;124m\"\u001b[39m,\u001b[38;5;124m\"\u001b[39m\u001b[38;5;124morange\u001b[39m\u001b[38;5;124m\"\u001b[39m,\u001b[38;5;124m\"\u001b[39m\u001b[38;5;124mmango\u001b[39m\u001b[38;5;124m\"\u001b[39m}\n\u001b[0;32m      2\u001b[0m fruits2 \u001b[38;5;241m=\u001b[39m {\u001b[38;5;124m\"\u001b[39m\u001b[38;5;124mguava\u001b[39m\u001b[38;5;124m\"\u001b[39m,\u001b[38;5;124m\"\u001b[39m\u001b[38;5;124mpomogranet\u001b[39m\u001b[38;5;124m\"\u001b[39m,\u001b[38;5;124m\"\u001b[39m\u001b[38;5;124mmango\u001b[39m\u001b[38;5;124m\"\u001b[39m,\u001b[38;5;124m\"\u001b[39m\u001b[38;5;124mbanana\u001b[39m\u001b[38;5;124m\"\u001b[39m}\n\u001b[1;32m----> 3\u001b[0m \u001b[38;5;28mprint\u001b[39m(fruits1\u001b[38;5;241m.\u001b[39mUninon(fruits2))\n",
      "\u001b[1;31mAttributeError\u001b[0m: 'set' object has no attribute 'Uninon'"
     ]
    }
   ],
   "source": [
    "fruits1 = {\"banana\",\"apple\",\"grapes\",\"orange\",\"mango\"}\n",
    "fruits2 = {\"guava\",\"pomogranet\",\"mango\",\"banana\"}\n",
    "print(fruits1.Uninon(fruits2))"
   ]
  },
  {
   "cell_type": "code",
   "execution_count": 43,
   "id": "40065ed8",
   "metadata": {},
   "outputs": [
    {
     "name": "stdout",
     "output_type": "stream",
     "text": [
      "{'mango', 'banana'}\n"
     ]
    }
   ],
   "source": [
    "fruits1 = {\"banana\",\"apple\",\"grapes\",\"orange\",\"mango\"}  # intersection operation\n",
    "fruits2 = {\"guava\",\"pomogranet\",\"mango\",\"banana\"}\n",
    "print(fruits1 & fruits2)"
   ]
  },
  {
   "cell_type": "code",
   "execution_count": 45,
   "id": "5cc09847",
   "metadata": {},
   "outputs": [
    {
     "name": "stdout",
     "output_type": "stream",
     "text": [
      "{'orange', 'grapes', 'apple'}\n",
      "{'orange', 'grapes', 'apple'}\n"
     ]
    }
   ],
   "source": [
    "fruits1 = {\"banana\",\"apple\",\"grapes\",\"orange\",\"mango\"}  # difference operation gives elements in set a which are not set b\n",
    "fruits2 = {\"guava\",\"pomogranet\",\"mango\",\"banana\"}\n",
    "print(fruits1.difference(fruits2))\n",
    "print(fruits1 - fruits2)"
   ]
  },
  {
   "cell_type": "code",
   "execution_count": 47,
   "id": "5a61558b",
   "metadata": {},
   "outputs": [
    {
     "name": "stdout",
     "output_type": "stream",
     "text": [
      "{'guava', 'orange', 'grapes', 'apple', 'pomogranet'}\n",
      "{'guava', 'orange', 'grapes', 'apple', 'pomogranet'}\n"
     ]
    }
   ],
   "source": [
    "fruits1 = {\"banana\",\"apple\",\"grapes\",\"orange\",\"mango\"} # symmetric difference ^\n",
    "fruits2 = {\"guava\",\"pomogranet\",\"mango\",\"banana\"}\n",
    "print(fruits1.symmetric_difference(fruits2))\n",
    "print(fruits1 ^ fruits2)"
   ]
  },
  {
   "cell_type": "code",
   "execution_count": 57,
   "id": "ee8b4484",
   "metadata": {},
   "outputs": [
    {
     "name": "stdout",
     "output_type": "stream",
     "text": [
      "frozenset({'orange', 'grapes', 'apple', 'mango', 'banana'})\n"
     ]
    }
   ],
   "source": [
    "fruits1 =frozenset([\"banana\",\"apple\",\"grapes\",\"orange\",\"mango\"])  # frozenset are immutable\n",
    "fruits2 = frozenset([\"guava\",\"pomogranet\",\"mango\",\"banana\"])\n",
    "print(fruits1)"
   ]
  },
  {
   "cell_type": "code",
   "execution_count": null,
   "id": "6e1be427",
   "metadata": {},
   "outputs": [],
   "source": []
  }
 ],
 "metadata": {
  "kernelspec": {
   "display_name": "Python 3 (ipykernel)",
   "language": "python",
   "name": "python3"
  },
  "language_info": {
   "codemirror_mode": {
    "name": "ipython",
    "version": 3
   },
   "file_extension": ".py",
   "mimetype": "text/x-python",
   "name": "python",
   "nbconvert_exporter": "python",
   "pygments_lexer": "ipython3",
   "version": "3.11.3"
  }
 },
 "nbformat": 4,
 "nbformat_minor": 5
}
